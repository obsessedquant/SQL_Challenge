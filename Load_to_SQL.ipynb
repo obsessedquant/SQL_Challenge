{
 "cells": [
  {
   "cell_type": "code",
   "execution_count": 91,
   "id": "3fcf6d32",
   "metadata": {},
   "outputs": [],
   "source": [
    "# !pip install psycopg2\n",
    "# !pip install sqlalchemy"
   ]
  },
  {
   "cell_type": "code",
   "execution_count": 92,
   "id": "6e57fa59",
   "metadata": {},
   "outputs": [],
   "source": [
    "import pandas as pd\n",
    "import os\n",
    "import psycopg2\n",
    "from dotenv import load_dotenv\n",
    "from sqlalchemy import create_engine"
   ]
  },
  {
   "cell_type": "code",
   "execution_count": 93,
   "id": "176ec008",
   "metadata": {},
   "outputs": [],
   "source": [
    "load_dotenv()\n",
    "# Get the postgres connection information from os file.\n",
    "# DB_HOST = os.getenv('DB_HOST')\n",
    "DB_HOST = 'localhost'\n",
    "DB_NAME = os.getenv('DB_NAME')\n",
    "# DB_USER = os.getenv('DB_USER')\n",
    "DB_USER = 'postgres'\n",
    "DB_PASS = os.getenv('DB_PASS')"
   ]
  },
  {
   "cell_type": "code",
   "execution_count": 94,
   "id": "837e3450",
   "metadata": {},
   "outputs": [
    {
     "name": "stdout",
     "output_type": "stream",
     "text": [
      "localhost\n"
     ]
    }
   ],
   "source": [
    "print(DB_HOST)"
   ]
  },
  {
   "cell_type": "code",
   "execution_count": 95,
   "id": "1c7b7a29",
   "metadata": {},
   "outputs": [],
   "source": [
    "engine = create_engine(f'postgresql://{DB_USER}:{DB_PASS}@{DB_HOST}/{DB_NAME}')"
   ]
  },
  {
   "cell_type": "code",
   "execution_count": 96,
   "id": "fdaba0f6",
   "metadata": {},
   "outputs": [],
   "source": [
    "# conn = psycopg2.connect(dbname=DB_NAME, user = DB_USER,\n",
    "#     password = DB_PASS, host = DB_HOST)"
   ]
  },
  {
   "cell_type": "code",
   "execution_count": 97,
   "id": "e971509e",
   "metadata": {},
   "outputs": [],
   "source": [
    "departments_df = pd.read_csv('Inputs/departments.csv')\n",
    "dept_df = pd.read_csv('Inputs/dept_emp.csv')\n",
    "dept_manager_df = pd.read_csv('Inputs/dept_manager.csv')\n",
    "employees_df = pd.read_csv('Inputs/employees.csv')\n",
    "salaries_df = pd.read_csv('Inputs/salaries.csv')\n",
    "titles_df = pd.read_csv('Inputs/titles.csv')"
   ]
  },
  {
   "cell_type": "code",
   "execution_count": 98,
   "id": "84a4933a",
   "metadata": {},
   "outputs": [
    {
     "data": {
      "text/html": [
       "<div>\n",
       "<style scoped>\n",
       "    .dataframe tbody tr th:only-of-type {\n",
       "        vertical-align: middle;\n",
       "    }\n",
       "\n",
       "    .dataframe tbody tr th {\n",
       "        vertical-align: top;\n",
       "    }\n",
       "\n",
       "    .dataframe thead th {\n",
       "        text-align: right;\n",
       "    }\n",
       "</style>\n",
       "<table border=\"1\" class=\"dataframe\">\n",
       "  <thead>\n",
       "    <tr style=\"text-align: right;\">\n",
       "      <th></th>\n",
       "      <th>dept_no</th>\n",
       "      <th>dept_name</th>\n",
       "    </tr>\n",
       "  </thead>\n",
       "  <tbody>\n",
       "    <tr>\n",
       "      <th>0</th>\n",
       "      <td>d001</td>\n",
       "      <td>Marketing</td>\n",
       "    </tr>\n",
       "    <tr>\n",
       "      <th>1</th>\n",
       "      <td>d002</td>\n",
       "      <td>Finance</td>\n",
       "    </tr>\n",
       "    <tr>\n",
       "      <th>2</th>\n",
       "      <td>d003</td>\n",
       "      <td>Human Resources</td>\n",
       "    </tr>\n",
       "    <tr>\n",
       "      <th>3</th>\n",
       "      <td>d004</td>\n",
       "      <td>Production</td>\n",
       "    </tr>\n",
       "    <tr>\n",
       "      <th>4</th>\n",
       "      <td>d005</td>\n",
       "      <td>Development</td>\n",
       "    </tr>\n",
       "  </tbody>\n",
       "</table>\n",
       "</div>"
      ],
      "text/plain": [
       "  dept_no        dept_name\n",
       "0    d001        Marketing\n",
       "1    d002          Finance\n",
       "2    d003  Human Resources\n",
       "3    d004       Production\n",
       "4    d005      Development"
      ]
     },
     "execution_count": 98,
     "metadata": {},
     "output_type": "execute_result"
    }
   ],
   "source": [
    "departments_df.head()"
   ]
  },
  {
   "cell_type": "code",
   "execution_count": 99,
   "id": "e75a5867",
   "metadata": {},
   "outputs": [
    {
     "data": {
      "text/html": [
       "<div>\n",
       "<style scoped>\n",
       "    .dataframe tbody tr th:only-of-type {\n",
       "        vertical-align: middle;\n",
       "    }\n",
       "\n",
       "    .dataframe tbody tr th {\n",
       "        vertical-align: top;\n",
       "    }\n",
       "\n",
       "    .dataframe thead th {\n",
       "        text-align: right;\n",
       "    }\n",
       "</style>\n",
       "<table border=\"1\" class=\"dataframe\">\n",
       "  <thead>\n",
       "    <tr style=\"text-align: right;\">\n",
       "      <th></th>\n",
       "      <th>emp_no</th>\n",
       "      <th>dept_no</th>\n",
       "    </tr>\n",
       "  </thead>\n",
       "  <tbody>\n",
       "    <tr>\n",
       "      <th>0</th>\n",
       "      <td>10001</td>\n",
       "      <td>d005</td>\n",
       "    </tr>\n",
       "    <tr>\n",
       "      <th>1</th>\n",
       "      <td>10002</td>\n",
       "      <td>d007</td>\n",
       "    </tr>\n",
       "    <tr>\n",
       "      <th>2</th>\n",
       "      <td>10003</td>\n",
       "      <td>d004</td>\n",
       "    </tr>\n",
       "    <tr>\n",
       "      <th>3</th>\n",
       "      <td>10004</td>\n",
       "      <td>d004</td>\n",
       "    </tr>\n",
       "    <tr>\n",
       "      <th>4</th>\n",
       "      <td>10005</td>\n",
       "      <td>d003</td>\n",
       "    </tr>\n",
       "  </tbody>\n",
       "</table>\n",
       "</div>"
      ],
      "text/plain": [
       "   emp_no dept_no\n",
       "0   10001    d005\n",
       "1   10002    d007\n",
       "2   10003    d004\n",
       "3   10004    d004\n",
       "4   10005    d003"
      ]
     },
     "execution_count": 99,
     "metadata": {},
     "output_type": "execute_result"
    }
   ],
   "source": [
    "dept_df.head()"
   ]
  },
  {
   "cell_type": "code",
   "execution_count": 100,
   "id": "fed3b9ae",
   "metadata": {},
   "outputs": [
    {
     "data": {
      "text/html": [
       "<div>\n",
       "<style scoped>\n",
       "    .dataframe tbody tr th:only-of-type {\n",
       "        vertical-align: middle;\n",
       "    }\n",
       "\n",
       "    .dataframe tbody tr th {\n",
       "        vertical-align: top;\n",
       "    }\n",
       "\n",
       "    .dataframe thead th {\n",
       "        text-align: right;\n",
       "    }\n",
       "</style>\n",
       "<table border=\"1\" class=\"dataframe\">\n",
       "  <thead>\n",
       "    <tr style=\"text-align: right;\">\n",
       "      <th></th>\n",
       "      <th>dept_no</th>\n",
       "      <th>emp_no</th>\n",
       "    </tr>\n",
       "  </thead>\n",
       "  <tbody>\n",
       "    <tr>\n",
       "      <th>0</th>\n",
       "      <td>d001</td>\n",
       "      <td>110022</td>\n",
       "    </tr>\n",
       "    <tr>\n",
       "      <th>1</th>\n",
       "      <td>d001</td>\n",
       "      <td>110039</td>\n",
       "    </tr>\n",
       "    <tr>\n",
       "      <th>2</th>\n",
       "      <td>d002</td>\n",
       "      <td>110085</td>\n",
       "    </tr>\n",
       "    <tr>\n",
       "      <th>3</th>\n",
       "      <td>d002</td>\n",
       "      <td>110114</td>\n",
       "    </tr>\n",
       "    <tr>\n",
       "      <th>4</th>\n",
       "      <td>d003</td>\n",
       "      <td>110183</td>\n",
       "    </tr>\n",
       "  </tbody>\n",
       "</table>\n",
       "</div>"
      ],
      "text/plain": [
       "  dept_no  emp_no\n",
       "0    d001  110022\n",
       "1    d001  110039\n",
       "2    d002  110085\n",
       "3    d002  110114\n",
       "4    d003  110183"
      ]
     },
     "execution_count": 100,
     "metadata": {},
     "output_type": "execute_result"
    }
   ],
   "source": [
    "dept_manager_df.head()"
   ]
  },
  {
   "cell_type": "code",
   "execution_count": 101,
   "id": "64625c77",
   "metadata": {},
   "outputs": [
    {
     "data": {
      "text/html": [
       "<div>\n",
       "<style scoped>\n",
       "    .dataframe tbody tr th:only-of-type {\n",
       "        vertical-align: middle;\n",
       "    }\n",
       "\n",
       "    .dataframe tbody tr th {\n",
       "        vertical-align: top;\n",
       "    }\n",
       "\n",
       "    .dataframe thead th {\n",
       "        text-align: right;\n",
       "    }\n",
       "</style>\n",
       "<table border=\"1\" class=\"dataframe\">\n",
       "  <thead>\n",
       "    <tr style=\"text-align: right;\">\n",
       "      <th></th>\n",
       "      <th>emp_no</th>\n",
       "      <th>emp_title_id</th>\n",
       "      <th>birth_date</th>\n",
       "      <th>first_name</th>\n",
       "      <th>last_name</th>\n",
       "      <th>sex</th>\n",
       "      <th>hire_date</th>\n",
       "    </tr>\n",
       "  </thead>\n",
       "  <tbody>\n",
       "    <tr>\n",
       "      <th>0</th>\n",
       "      <td>473302</td>\n",
       "      <td>s0001</td>\n",
       "      <td>1953-07-25</td>\n",
       "      <td>Hideyuki</td>\n",
       "      <td>Zallocco</td>\n",
       "      <td>M</td>\n",
       "      <td>1990-04-28</td>\n",
       "    </tr>\n",
       "    <tr>\n",
       "      <th>1</th>\n",
       "      <td>475053</td>\n",
       "      <td>e0002</td>\n",
       "      <td>1954-11-18</td>\n",
       "      <td>Byong</td>\n",
       "      <td>Delgrande</td>\n",
       "      <td>F</td>\n",
       "      <td>1991-09-07</td>\n",
       "    </tr>\n",
       "    <tr>\n",
       "      <th>2</th>\n",
       "      <td>57444</td>\n",
       "      <td>e0002</td>\n",
       "      <td>1958-01-30</td>\n",
       "      <td>Berry</td>\n",
       "      <td>Babb</td>\n",
       "      <td>F</td>\n",
       "      <td>1992-03-21</td>\n",
       "    </tr>\n",
       "    <tr>\n",
       "      <th>3</th>\n",
       "      <td>421786</td>\n",
       "      <td>s0001</td>\n",
       "      <td>1957-09-28</td>\n",
       "      <td>Xiong</td>\n",
       "      <td>Verhoeff</td>\n",
       "      <td>M</td>\n",
       "      <td>1987-11-26</td>\n",
       "    </tr>\n",
       "    <tr>\n",
       "      <th>4</th>\n",
       "      <td>282238</td>\n",
       "      <td>e0003</td>\n",
       "      <td>1952-10-28</td>\n",
       "      <td>Abdelkader</td>\n",
       "      <td>Baumann</td>\n",
       "      <td>F</td>\n",
       "      <td>1991-01-18</td>\n",
       "    </tr>\n",
       "  </tbody>\n",
       "</table>\n",
       "</div>"
      ],
      "text/plain": [
       "   emp_no emp_title_id birth_date  first_name  last_name sex  hire_date\n",
       "0  473302        s0001 1953-07-25    Hideyuki   Zallocco   M 1990-04-28\n",
       "1  475053        e0002 1954-11-18       Byong  Delgrande   F 1991-09-07\n",
       "2   57444        e0002 1958-01-30       Berry       Babb   F 1992-03-21\n",
       "3  421786        s0001 1957-09-28       Xiong   Verhoeff   M 1987-11-26\n",
       "4  282238        e0003 1952-10-28  Abdelkader    Baumann   F 1991-01-18"
      ]
     },
     "execution_count": 101,
     "metadata": {},
     "output_type": "execute_result"
    }
   ],
   "source": [
    "employees_df['birth_date'] = pd.to_datetime(employees_df.birth_date)\n",
    "employees_df['hire_date'] = pd.to_datetime(employees_df.hire_date)\n",
    "# employees_df.hire_date.dtype\n",
    "employees_df.head()"
   ]
  },
  {
   "cell_type": "code",
   "execution_count": 102,
   "id": "18713f77",
   "metadata": {},
   "outputs": [
    {
     "data": {
      "text/html": [
       "<div>\n",
       "<style scoped>\n",
       "    .dataframe tbody tr th:only-of-type {\n",
       "        vertical-align: middle;\n",
       "    }\n",
       "\n",
       "    .dataframe tbody tr th {\n",
       "        vertical-align: top;\n",
       "    }\n",
       "\n",
       "    .dataframe thead th {\n",
       "        text-align: right;\n",
       "    }\n",
       "</style>\n",
       "<table border=\"1\" class=\"dataframe\">\n",
       "  <thead>\n",
       "    <tr style=\"text-align: right;\">\n",
       "      <th></th>\n",
       "      <th>emp_no</th>\n",
       "      <th>salary</th>\n",
       "    </tr>\n",
       "  </thead>\n",
       "  <tbody>\n",
       "    <tr>\n",
       "      <th>0</th>\n",
       "      <td>10001</td>\n",
       "      <td>60117</td>\n",
       "    </tr>\n",
       "    <tr>\n",
       "      <th>1</th>\n",
       "      <td>10002</td>\n",
       "      <td>65828</td>\n",
       "    </tr>\n",
       "    <tr>\n",
       "      <th>2</th>\n",
       "      <td>10003</td>\n",
       "      <td>40006</td>\n",
       "    </tr>\n",
       "    <tr>\n",
       "      <th>3</th>\n",
       "      <td>10004</td>\n",
       "      <td>40054</td>\n",
       "    </tr>\n",
       "    <tr>\n",
       "      <th>4</th>\n",
       "      <td>10005</td>\n",
       "      <td>78228</td>\n",
       "    </tr>\n",
       "  </tbody>\n",
       "</table>\n",
       "</div>"
      ],
      "text/plain": [
       "   emp_no  salary\n",
       "0   10001   60117\n",
       "1   10002   65828\n",
       "2   10003   40006\n",
       "3   10004   40054\n",
       "4   10005   78228"
      ]
     },
     "execution_count": 102,
     "metadata": {},
     "output_type": "execute_result"
    }
   ],
   "source": [
    "salaries_df.head()"
   ]
  },
  {
   "cell_type": "code",
   "execution_count": 103,
   "id": "501ed67a",
   "metadata": {},
   "outputs": [
    {
     "data": {
      "text/html": [
       "<div>\n",
       "<style scoped>\n",
       "    .dataframe tbody tr th:only-of-type {\n",
       "        vertical-align: middle;\n",
       "    }\n",
       "\n",
       "    .dataframe tbody tr th {\n",
       "        vertical-align: top;\n",
       "    }\n",
       "\n",
       "    .dataframe thead th {\n",
       "        text-align: right;\n",
       "    }\n",
       "</style>\n",
       "<table border=\"1\" class=\"dataframe\">\n",
       "  <thead>\n",
       "    <tr style=\"text-align: right;\">\n",
       "      <th></th>\n",
       "      <th>title_id</th>\n",
       "      <th>title</th>\n",
       "    </tr>\n",
       "  </thead>\n",
       "  <tbody>\n",
       "    <tr>\n",
       "      <th>0</th>\n",
       "      <td>s0001</td>\n",
       "      <td>Staff</td>\n",
       "    </tr>\n",
       "    <tr>\n",
       "      <th>1</th>\n",
       "      <td>s0002</td>\n",
       "      <td>Senior Staff</td>\n",
       "    </tr>\n",
       "    <tr>\n",
       "      <th>2</th>\n",
       "      <td>e0001</td>\n",
       "      <td>Assistant Engineer</td>\n",
       "    </tr>\n",
       "    <tr>\n",
       "      <th>3</th>\n",
       "      <td>e0002</td>\n",
       "      <td>Engineer</td>\n",
       "    </tr>\n",
       "    <tr>\n",
       "      <th>4</th>\n",
       "      <td>e0003</td>\n",
       "      <td>Senior Engineer</td>\n",
       "    </tr>\n",
       "  </tbody>\n",
       "</table>\n",
       "</div>"
      ],
      "text/plain": [
       "  title_id               title\n",
       "0    s0001               Staff\n",
       "1    s0002        Senior Staff\n",
       "2    e0001  Assistant Engineer\n",
       "3    e0002            Engineer\n",
       "4    e0003     Senior Engineer"
      ]
     },
     "execution_count": 103,
     "metadata": {},
     "output_type": "execute_result"
    }
   ],
   "source": [
    "titles_df.head()"
   ]
  },
  {
   "cell_type": "code",
   "execution_count": 104,
   "id": "28999236",
   "metadata": {},
   "outputs": [],
   "source": [
    "# load df to database\n",
    "departments_df.to_sql('departments',engine,index=False,if_exists='replace')\n",
    "dept_df.to_sql('dept_emp',engine,index=False,if_exists='replace')\n",
    "dept_manager_df.to_sql('dept_manager',engine,index=False,if_exists='replace')\n",
    "employees_df.to_sql('employees',engine,index=False,if_exists='replace')\n",
    "salaries_df.to_sql('salaries',engine,index=False,if_exists='replace')\n",
    "titles_df.to_sql('titles',engine,index=False,if_exists='replace')"
   ]
  },
  {
   "cell_type": "code",
   "execution_count": 110,
   "id": "f3d43b82",
   "metadata": {},
   "outputs": [
    {
     "name": "stdout",
     "output_type": "stream",
     "text": [
      "departments\n",
      "dept_emp\n",
      "dept_manager\n",
      "employees\n",
      "salaries\n",
      "tities\n",
      "dept_emp\n"
     ]
    }
   ],
   "source": [
    "\n",
    "# write python program to connect to postgres and load data to postgre database\n",
    "#\n",
    "# conda install psycopg2 - PostgresSQL database adapter for Python\n",
    "#\n",
    "#\n",
    "#\n",
    "# \n",
    "#\n",
    "\n",
    "import pandas as pd\n",
    "import os\n",
    "import psycopg2\n",
    "from dotenv import load_dotenv\n",
    "from sqlalchemy import create_engine\n",
    "\n",
    "load_dotenv()\n",
    "# Get the postgres connection information from os file.\n",
    "# DB_HOST = os.getenv('DB_HOST')\n",
    "DB_HOST = 'localhost'\n",
    "DB_NAME = os.getenv('DB_NAME')\n",
    "# DB_USER = os.getenv('DB_USER')\n",
    "DB_USER = 'postgres'\n",
    "DB_PASS = os.getenv('DB_PASS')\n",
    "\n",
    "# print(DB_PASS)\n",
    "\n",
    "departments_df = pd.read_csv('Inputs/departments.csv')\n",
    "dept_df = pd.read_csv('Inputs/dept_emp.csv')\n",
    "dept_manager_df = pd.read_csv('Inputs/dept_manager.csv')\n",
    "employees_df = pd.read_csv('Inputs/employees.csv')\n",
    "salaries_df = pd.read_csv('Inputs/salaries.csv')\n",
    "titles_df = pd.read_csv('Inputs/titles.csv')\n",
    "\n",
    "\n",
    "# # sqlachemy\n",
    "\n",
    "engine = create_engine(f'postgresql://{DB_USER}:{DB_PASS}@{DB_HOST}:5432/{DB_NAME}')\n",
    "\n",
    "# # load df to database\n",
    "departments_df.to_sql('departments',engine,index=False,if_exists='append')\n",
    "print('departments')\n",
    "dept_df.to_sql('dept_emp',engine,index=False,if_exists='append')\n",
    "print('dept_emp')\n",
    "dept_manager_df.to_sql('dept_manager',engine,index=False,if_exists='append')\n",
    "print('dept_manager')\n",
    "employees_df.to_sql('employees',engine,index=False,if_exists='append')\n",
    "print('employees')\n",
    "salaries_df.to_sql('salaries',engine,index=False,if_exists='append')\n",
    "print('salaries')\n",
    "titles_df.to_sql('titles',engine,index=False,if_exists='append')\n",
    "print('titles')\n",
    "dept_df.to_sql('dept_emp',engine,index=False,if_exists='append')\n",
    "print('dept_emp')\n",
    "\n",
    "# sql_challenge.py\n",
    "# Displaying sql_challenge.py."
   ]
  },
  {
   "cell_type": "code",
   "execution_count": null,
   "id": "7e81c670",
   "metadata": {},
   "outputs": [],
   "source": []
  }
 ],
 "metadata": {
  "kernelspec": {
   "display_name": "Python [conda env:PythonData]",
   "language": "python",
   "name": "conda-env-PythonData-py"
  },
  "language_info": {
   "codemirror_mode": {
    "name": "ipython",
    "version": 3
   },
   "file_extension": ".py",
   "mimetype": "text/x-python",
   "name": "python",
   "nbconvert_exporter": "python",
   "pygments_lexer": "ipython3",
   "version": "3.6.13"
  }
 },
 "nbformat": 4,
 "nbformat_minor": 5
}
