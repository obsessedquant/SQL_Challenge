{
 "cells": [
  {
   "cell_type": "code",
   "execution_count": 2,
   "id": "3fcf6d32",
   "metadata": {},
   "outputs": [
    {
     "name": "stdout",
     "output_type": "stream",
     "text": [
      "Collecting psycopg2\n",
      "  Downloading psycopg2-2.9.1-cp37-cp37m-win_amd64.whl (1.1 MB)\n",
      "Installing collected packages: psycopg2\n",
      "Successfully installed psycopg2-2.9.1\n",
      "Collecting sqlalchemy\n",
      "  Downloading SQLAlchemy-1.4.23-cp37-cp37m-win_amd64.whl (1.5 MB)\n",
      "Collecting greenlet!=0.4.17\n",
      "  Downloading greenlet-1.1.1-cp37-cp37m-win_amd64.whl (95 kB)\n",
      "Requirement already satisfied: importlib-metadata in c:\\users\\srobi\\anaconda3\\envs\\pyvizenv\\lib\\site-packages (from sqlalchemy) (4.7.1)\n",
      "Requirement already satisfied: zipp>=0.5 in c:\\users\\srobi\\anaconda3\\envs\\pyvizenv\\lib\\site-packages (from importlib-metadata->sqlalchemy) (3.5.0)\n",
      "Requirement already satisfied: typing-extensions>=3.6.4 in c:\\users\\srobi\\anaconda3\\envs\\pyvizenv\\lib\\site-packages (from importlib-metadata->sqlalchemy) (3.10.0.0)\n",
      "Installing collected packages: greenlet, sqlalchemy\n",
      "Successfully installed greenlet-1.1.1 sqlalchemy-1.4.23\n"
     ]
    }
   ],
   "source": [
    "# !pip install psycopg2\n",
    "# !pip install sqlalchemy"
   ]
  },
  {
   "cell_type": "code",
   "execution_count": 3,
   "id": "6e57fa59",
   "metadata": {},
   "outputs": [],
   "source": [
    "import pandas as pd\n",
    "import os\n",
    "import psycopg2\n",
    "from dotenv import load_dotenv\n",
    "from sqlalchemy import create_engine\n",
    "import hvplot.pandas"
   ]
  },
  {
   "cell_type": "code",
   "execution_count": 5,
   "id": "176ec008",
   "metadata": {},
   "outputs": [],
   "source": [
    "load_dotenv()\n",
    "# Get the postgres connection information from os file.\n",
    "# DB_HOST = os.getenv('DB_HOST')\n",
    "DB_HOST = 'localhost'\n",
    "DB_NAME = os.getenv('DB_NAME')\n",
    "# DB_USER = os.getenv('DB_USER')\n",
    "DB_USER = 'postgres'\n",
    "DB_PASS = os.getenv('DB_PASS')"
   ]
  },
  {
   "cell_type": "code",
   "execution_count": 6,
   "id": "837e3450",
   "metadata": {},
   "outputs": [
    {
     "name": "stdout",
     "output_type": "stream",
     "text": [
      "localhost\n",
      "employees\n",
      "postgres\n"
     ]
    }
   ],
   "source": [
    "print(DB_HOST)\n",
    "print(DB_NAME)\n",
    "print(DB_USER)"
   ]
  },
  {
   "cell_type": "code",
   "execution_count": 7,
   "id": "1c7b7a29",
   "metadata": {},
   "outputs": [],
   "source": [
    "# from sqlalchemy import create_engine\n",
    "# engine = create_engine(f'postgresql://localhost:5432/{DB_NAME}')\n",
    "# connection = engine.connect()\n",
    "\n",
    "# engine = create_engine(f'postgresql://{DB_USER}:{DB_PASS}@{DB_HOST}/{DB_NAME}')\n",
    "engine = create_engine(f'postgresql://{DB_USER}:{DB_PASS}@{DB_HOST}:5432/{DB_NAME}')\n",
    "connection = engine.connect()"
   ]
  },
  {
   "cell_type": "code",
   "execution_count": 8,
   "id": "fdaba0f6",
   "metadata": {},
   "outputs": [],
   "source": [
    "conn = psycopg2.connect(dbname=DB_NAME, user = DB_USER,\n",
    "    password = DB_PASS, host = DB_HOST)"
   ]
  },
  {
   "cell_type": "code",
   "execution_count": 72,
   "id": "258c5abf",
   "metadata": {},
   "outputs": [
    {
     "data": {},
     "metadata": {},
     "output_type": "display_data"
    },
    {
     "data": {
      "application/vnd.holoviews_exec.v0+json": "",
      "text/html": [
       "<div id='4698'>\n",
       "\n",
       "\n",
       "\n",
       "\n",
       "\n",
       "  <div class=\"bk-root\" id=\"56563327-c2dc-47be-8dd3-e6ec1b99df59\" data-root-id=\"4698\"></div>\n",
       "</div>\n",
       "<script type=\"application/javascript\">(function(root) {\n",
       "  function embed_document(root) {\n",
       "    var docs_json = {\"f80b947b-829d-43cb-9786-b268afa96c5e\":{\"defs\":[{\"extends\":null,\"module\":null,\"name\":\"ReactiveHTML1\",\"overrides\":[],\"properties\":[]},{\"extends\":null,\"module\":null,\"name\":\"FlexBox1\",\"overrides\":[],\"properties\":[{\"default\":\"flex-start\",\"kind\":null,\"name\":\"align_content\"},{\"default\":\"flex-start\",\"kind\":null,\"name\":\"align_items\"},{\"default\":\"row\",\"kind\":null,\"name\":\"flex_direction\"},{\"default\":\"wrap\",\"kind\":null,\"name\":\"flex_wrap\"},{\"default\":\"flex-start\",\"kind\":null,\"name\":\"justify_content\"}]},{\"extends\":null,\"module\":null,\"name\":\"TemplateActions1\",\"overrides\":[],\"properties\":[{\"default\":0,\"kind\":null,\"name\":\"open_modal\"},{\"default\":0,\"kind\":null,\"name\":\"close_modal\"}]},{\"extends\":null,\"module\":null,\"name\":\"MaterialTemplateActions1\",\"overrides\":[],\"properties\":[{\"default\":0,\"kind\":null,\"name\":\"open_modal\"},{\"default\":0,\"kind\":null,\"name\":\"close_modal\"}]}],\"roots\":{\"references\":[{\"attributes\":{\"bottom\":{\"value\":0},\"fill_alpha\":{\"value\":0.1},\"fill_color\":{\"value\":\"#30a2da\"},\"left\":{\"field\":\"left\"},\"line_alpha\":{\"value\":0.1},\"right\":{\"field\":\"right\"},\"top\":{\"field\":\"top\"}},\"id\":\"4737\",\"type\":\"Quad\"},{\"attributes\":{\"data_source\":{\"id\":\"4733\"},\"glyph\":{\"id\":\"4736\"},\"hover_glyph\":null,\"muted_glyph\":{\"id\":\"4738\"},\"nonselection_glyph\":{\"id\":\"4737\"},\"selection_glyph\":{\"id\":\"4741\"},\"view\":{\"id\":\"4740\"}},\"id\":\"4739\",\"type\":\"GlyphRenderer\"},{\"attributes\":{},\"id\":\"4710\",\"type\":\"LinearScale\"},{\"attributes\":{\"margin\":[5,5,5,5],\"name\":\"HSpacer07197\",\"sizing_mode\":\"stretch_width\"},\"id\":\"4699\",\"type\":\"Spacer\"},{\"attributes\":{},\"id\":\"4240\",\"type\":\"NumeralTickFormatter\"},{\"attributes\":{\"axis_label\":\"Count\",\"formatter\":{\"id\":\"4240\"},\"major_label_policy\":{\"id\":\"4749\"},\"ticker\":{\"id\":\"4717\"}},\"id\":\"4716\",\"type\":\"LinearAxis\"},{\"attributes\":{},\"id\":\"4744\",\"type\":\"AllLabels\"},{\"attributes\":{\"below\":[{\"id\":\"4712\"}],\"center\":[{\"id\":\"4715\"},{\"id\":\"4719\"}],\"height\":300,\"left\":[{\"id\":\"4716\"}],\"margin\":[5,5,5,5],\"min_border_bottom\":10,\"min_border_left\":10,\"min_border_right\":10,\"min_border_top\":10,\"renderers\":[{\"id\":\"4739\"}],\"sizing_mode\":\"fixed\",\"title\":{\"id\":\"4704\"},\"toolbar\":{\"id\":\"4726\"},\"width\":800,\"x_range\":{\"id\":\"4700\"},\"x_scale\":{\"id\":\"4708\"},\"y_range\":{\"id\":\"4701\"},\"y_scale\":{\"id\":\"4710\"}},\"id\":\"4703\",\"subtype\":\"Figure\",\"type\":\"Plot\"},{\"attributes\":{},\"id\":\"4720\",\"type\":\"SaveTool\"},{\"attributes\":{\"axis_label\":\"Salary\",\"formatter\":{\"id\":\"4241\"},\"major_label_policy\":{\"id\":\"4744\"},\"ticker\":{\"id\":\"4713\"}},\"id\":\"4712\",\"type\":\"LinearAxis\"},{\"attributes\":{},\"id\":\"4721\",\"type\":\"PanTool\"},{\"attributes\":{\"source\":{\"id\":\"4733\"}},\"id\":\"4740\",\"type\":\"CDSView\"},{\"attributes\":{},\"id\":\"4749\",\"type\":\"AllLabels\"},{\"attributes\":{},\"id\":\"4724\",\"type\":\"ResetTool\"},{\"attributes\":{\"callback\":null,\"renderers\":[{\"id\":\"4739\"}],\"tags\":[\"hv_created\"],\"tooltips\":[[\"salary\",\"@{salary}\"],[\"Count\",\"@{salary_count}\"]]},\"id\":\"4702\",\"type\":\"HoverTool\"},{\"attributes\":{\"bottom\":{\"value\":0},\"fill_color\":{\"value\":\"#30a2da\"},\"left\":{\"field\":\"left\"},\"right\":{\"field\":\"right\"},\"top\":{\"field\":\"top\"}},\"id\":\"4736\",\"type\":\"Quad\"},{\"attributes\":{},\"id\":\"4722\",\"type\":\"WheelZoomTool\"},{\"attributes\":{},\"id\":\"4717\",\"type\":\"BasicTicker\"},{\"attributes\":{\"active_multi\":null,\"tools\":[{\"id\":\"4702\"},{\"id\":\"4720\"},{\"id\":\"4721\"},{\"id\":\"4722\"},{\"id\":\"4723\"},{\"id\":\"4724\"}]},\"id\":\"4726\",\"type\":\"Toolbar\"},{\"attributes\":{\"axis\":{\"id\":\"4716\"},\"dimension\":1,\"ticker\":{\"id\":\"4717\"}},\"id\":\"4719\",\"type\":\"Grid\"},{\"attributes\":{\"overlay\":{\"id\":\"4725\"}},\"id\":\"4723\",\"type\":\"BoxZoomTool\"},{\"attributes\":{\"format\":\"$ 0,0\"},\"id\":\"4241\",\"type\":\"NumeralTickFormatter\"},{\"attributes\":{\"bottom\":{\"value\":0},\"fill_alpha\":{\"value\":1.0},\"fill_color\":{\"value\":\"#30a2da\"},\"hatch_alpha\":{\"value\":1.0},\"hatch_color\":{\"value\":\"black\"},\"hatch_scale\":{\"value\":12.0},\"hatch_weight\":{\"value\":1.0},\"left\":{\"field\":\"left\"},\"line_alpha\":{\"value\":1.0},\"line_cap\":{\"value\":\"butt\"},\"line_color\":{\"value\":\"black\"},\"line_dash\":{\"value\":[]},\"line_dash_offset\":{\"value\":0},\"line_join\":{\"value\":\"bevel\"},\"line_width\":{\"value\":1},\"right\":{\"field\":\"right\"},\"top\":{\"field\":\"top\"}},\"id\":\"4741\",\"type\":\"Quad\"},{\"attributes\":{},\"id\":\"4713\",\"type\":\"BasicTicker\"},{\"attributes\":{\"end\":135254.4,\"reset_end\":135254.4,\"reset_start\":0.0,\"tags\":[[[\"salary_count\",\"Count\",null]]]},\"id\":\"4701\",\"type\":\"Range1d\"},{\"attributes\":{\"bottom\":{\"value\":0},\"fill_alpha\":{\"value\":0.2},\"fill_color\":{\"value\":\"#30a2da\"},\"left\":{\"field\":\"left\"},\"line_alpha\":{\"value\":0.2},\"right\":{\"field\":\"right\"},\"top\":{\"field\":\"top\"}},\"id\":\"4738\",\"type\":\"Quad\"},{\"attributes\":{\"bottom_units\":\"screen\",\"fill_alpha\":0.5,\"fill_color\":\"lightgrey\",\"left_units\":\"screen\",\"level\":\"overlay\",\"line_alpha\":1.0,\"line_color\":\"black\",\"line_dash\":[4,4],\"line_width\":2,\"right_units\":\"screen\",\"syncable\":false,\"top_units\":\"screen\"},\"id\":\"4725\",\"type\":\"BoxAnnotation\"},{\"attributes\":{\"margin\":[5,5,5,5],\"name\":\"HSpacer07198\",\"sizing_mode\":\"stretch_width\"},\"id\":\"4770\",\"type\":\"Spacer\"},{\"attributes\":{\"text\":\"Employee Salaries Distribution\",\"text_color\":\"black\",\"text_font_size\":\"12pt\"},\"id\":\"4704\",\"type\":\"Title\"},{\"attributes\":{\"children\":[{\"id\":\"4699\"},{\"id\":\"4703\"},{\"id\":\"4770\"}],\"margin\":[0,0,0,0],\"name\":\"Row07193\",\"tags\":[\"embedded\"]},\"id\":\"4698\",\"type\":\"Row\"},{\"attributes\":{\"data\":{\"left\":{\"__ndarray__\":\"AAAAAACI40AzMzMzU7flQGZmZmam5udAmpmZmfkV6kDNzMzMTEXsQAAAAACgdO5AmpmZmflR8EA0MzMzo2nxQM3MzMxMgfJAZmZmZvaY80AAAAAAoLD0QJqZmZlJyPVANDMzM/Pf9kDNzMzMnPf3QGdmZmZGD/lAAAAAAPAm+kCamZmZmT77QDQzMzNDVvxAzczMzOxt/UBnZmZmloX+QA==\",\"dtype\":\"float64\",\"order\":\"little\",\"shape\":[20]},\"right\":{\"__ndarray__\":\"MzMzM1O35UBmZmZmpubnQJqZmZn5FepAzczMzExF7EAAAAAAoHTuQJqZmZn5UfBANDMzM6Np8UDNzMzMTIHyQGZmZmb2mPNAAAAAAKCw9ECamZmZScj1QDQzMzPz3/ZAzczMzJz390BnZmZmRg/5QAAAAADwJvpAmpmZmZk++0A0MzMzQ1b8QM3MzMzsbf1AZ2ZmZpaF/kAAAAAAQJ3/QA==\",\"dtype\":\"float64\",\"order\":\"little\",\"shape\":[20]},\"salary\":{\"__ndarray__\":\"mpmZmamf5EDMzMzM/M7mQAAAAABQ/uhANDMzM6Mt60BmZmZm9lztQJqZmZlJjO9AZ2ZmZs7d8EAAAAAAePXxQJqZmZkhDfNAMzMzM8sk9EDNzMzMdDz1QGdmZmYeVPZAAAAAAMhr90CamZmZcYP4QDQzMzMbm/lAzczMzMSy+kBnZmZmbsr7QAAAAAAY4vxAmpmZmcH5/UA0MzMzaxH/QA==\",\"dtype\":\"float64\",\"order\":\"little\",\"shape\":[20]},\"salary_count\":[122959,28784,28192,25587,22392,18706,15421,11892,9139,6426,4345,2864,1639,848,447,222,101,42,13,5],\"top\":[122959,28784,28192,25587,22392,18706,15421,11892,9139,6426,4345,2864,1639,848,447,222,101,42,13,5]},\"selected\":{\"id\":\"4734\"},\"selection_policy\":{\"id\":\"4761\"}},\"id\":\"4733\",\"type\":\"ColumnDataSource\"},{\"attributes\":{},\"id\":\"4761\",\"type\":\"UnionRenderers\"},{\"attributes\":{\"axis\":{\"id\":\"4712\"},\"ticker\":{\"id\":\"4713\"}},\"id\":\"4715\",\"type\":\"Grid\"},{\"attributes\":{},\"id\":\"4734\",\"type\":\"Selection\"},{\"attributes\":{},\"id\":\"4708\",\"type\":\"LinearScale\"},{\"attributes\":{\"end\":132847.95,\"reset_end\":132847.95,\"reset_start\":36644.05,\"start\":36644.05,\"tags\":[[[\"salary\",\"salary\",null]]]},\"id\":\"4700\",\"type\":\"Range1d\"}],\"root_ids\":[\"4698\"]},\"title\":\"Bokeh Application\",\"version\":\"2.3.3\"}};\n",
       "    var render_items = [{\"docid\":\"f80b947b-829d-43cb-9786-b268afa96c5e\",\"root_ids\":[\"4698\"],\"roots\":{\"4698\":\"56563327-c2dc-47be-8dd3-e6ec1b99df59\"}}];\n",
       "    root.Bokeh.embed.embed_items_notebook(docs_json, render_items);\n",
       "  }\n",
       "  if (root.Bokeh !== undefined && root.Bokeh.Panel !== undefined) {\n",
       "    embed_document(root);\n",
       "  } else {\n",
       "    var attempts = 0;\n",
       "    var timer = setInterval(function(root) {\n",
       "      if (root.Bokeh !== undefined && root.Bokeh.Panel !== undefined) {\n",
       "        clearInterval(timer);\n",
       "        embed_document(root);\n",
       "      } else if (document.readyState == \"complete\") {\n",
       "        attempts++;\n",
       "        if (attempts > 200) {\n",
       "          clearInterval(timer);\n",
       "          console.log(\"Bokeh: ERROR: Unable to run BokehJS code because BokehJS library is missing\");\n",
       "        }\n",
       "      }\n",
       "    }, 25, root)\n",
       "  }\n",
       "})(window);</script>"
      ],
      "text/plain": [
       ":Histogram   [salary]   (salary_count)"
      ]
     },
     "execution_count": 72,
     "metadata": {
      "application/vnd.holoviews_exec.v0+json": {
       "id": "4698"
      }
     },
     "output_type": "execute_result"
    }
   ],
   "source": [
    "employees_df = pd.read_sql_query('''SELECT * FROM employees;''',engine)\n",
    "titles_df = pd.read_sql_query('''SELECT * FROM titles;''',engine)\n",
    "salaries_df = pd.read_sql_query('''SELECT * FROM salaries;''',engine)\n",
    "dept_emp_df = pd.read_sql_query('''SELECT * FROM dept_emp;''',engine)\n",
    "dept_manager_df = pd.read_sql_query('''SELECT * FROM dept_manager;''',engine)\n",
    "departments_df = pd.read_sql_query('''SELECT * FROM departments;''',engine)\n",
    "\n",
    "from bokeh.models.formatters import NumeralTickFormatter\n",
    "formatter1 = NumeralTickFormatter(format=\"0,0\")\n",
    "formatter2 = NumeralTickFormatter(format=\"$ 0,0\")\n",
    "salaries_df2 = salaries_df.drop('emp_no',1)\n",
    "\n",
    "emp_sal_plot = salaries_df2.hvplot.hist(width=800, grid=True, xformatter=formatter2, yformatter=formatter1,\n",
    "                         xlabel = 'Salary', ylabel = 'Count', title = 'Employee Salaries Distribution')\n",
    "emp_sal_plot"
   ]
  },
  {
   "cell_type": "code",
   "execution_count": 76,
   "id": "361ca599",
   "metadata": {},
   "outputs": [
    {
     "data": {},
     "metadata": {},
     "output_type": "display_data"
    },
    {
     "data": {
      "application/vnd.holoviews_exec.v0+json": "",
      "text/html": [
       "<div id='5171'>\n",
       "\n",
       "\n",
       "\n",
       "\n",
       "\n",
       "  <div class=\"bk-root\" id=\"83d35a2d-713f-4f90-9c38-e0648f26ad59\" data-root-id=\"5171\"></div>\n",
       "</div>\n",
       "<script type=\"application/javascript\">(function(root) {\n",
       "  function embed_document(root) {\n",
       "    var docs_json = {\"01e25903-5994-4a4d-b8c3-37bd3a3032de\":{\"defs\":[{\"extends\":null,\"module\":null,\"name\":\"ReactiveHTML1\",\"overrides\":[],\"properties\":[]},{\"extends\":null,\"module\":null,\"name\":\"FlexBox1\",\"overrides\":[],\"properties\":[{\"default\":\"flex-start\",\"kind\":null,\"name\":\"align_content\"},{\"default\":\"flex-start\",\"kind\":null,\"name\":\"align_items\"},{\"default\":\"row\",\"kind\":null,\"name\":\"flex_direction\"},{\"default\":\"wrap\",\"kind\":null,\"name\":\"flex_wrap\"},{\"default\":\"flex-start\",\"kind\":null,\"name\":\"justify_content\"}]},{\"extends\":null,\"module\":null,\"name\":\"TemplateActions1\",\"overrides\":[],\"properties\":[{\"default\":0,\"kind\":null,\"name\":\"open_modal\"},{\"default\":0,\"kind\":null,\"name\":\"close_modal\"}]},{\"extends\":null,\"module\":null,\"name\":\"MaterialTemplateActions1\",\"overrides\":[],\"properties\":[{\"default\":0,\"kind\":null,\"name\":\"open_modal\"},{\"default\":0,\"kind\":null,\"name\":\"close_modal\"}]}],\"roots\":{\"references\":[{\"attributes\":{\"end\":59554.509987686346,\"reset_end\":59554.509987686346,\"reset_start\":0.0,\"tags\":[[[\"salary\",\"salary\",null]]]},\"id\":\"5174\",\"type\":\"Range1d\"},{\"attributes\":{\"axis\":{\"id\":\"5185\"},\"ticker\":{\"id\":\"5186\"}},\"id\":\"5187\",\"type\":\"Grid\"},{\"attributes\":{},\"id\":\"5196\",\"type\":\"ResetTool\"},{\"attributes\":{\"factors\":[\"Assistant Engineer\",\"Engineer\",\"Manager\",\"Senior Engineer\",\"Senior Staff\",\"Staff\",\"Technique Leader\"],\"tags\":[[[\"title\",\"title\",null]]]},\"id\":\"5173\",\"type\":\"FactorRange\"},{\"attributes\":{\"source\":{\"id\":\"5205\"}},\"id\":\"5212\",\"type\":\"CDSView\"},{\"attributes\":{},\"id\":\"5189\",\"type\":\"BasicTicker\"},{\"attributes\":{\"fill_alpha\":{\"value\":0.1},\"fill_color\":{\"value\":\"#30a2da\"},\"line_alpha\":{\"value\":0.1},\"top\":{\"field\":\"salary\"},\"width\":{\"value\":0.8},\"x\":{\"field\":\"title\"}},\"id\":\"5209\",\"type\":\"VBar\"},{\"attributes\":{\"data_source\":{\"id\":\"5205\"},\"glyph\":{\"id\":\"5208\"},\"hover_glyph\":null,\"muted_glyph\":{\"id\":\"5210\"},\"nonselection_glyph\":{\"id\":\"5209\"},\"selection_glyph\":{\"id\":\"5213\"},\"view\":{\"id\":\"5212\"}},\"id\":\"5211\",\"type\":\"GlyphRenderer\"},{\"attributes\":{\"axis_label\":\"Job Title\",\"formatter\":{\"id\":\"5214\"},\"major_label_policy\":{\"id\":\"5216\"},\"ticker\":{\"id\":\"5186\"}},\"id\":\"5185\",\"type\":\"CategoricalAxis\"},{\"attributes\":{\"fill_color\":{\"value\":\"#30a2da\"},\"top\":{\"field\":\"salary\"},\"width\":{\"value\":0.8},\"x\":{\"field\":\"title\"}},\"id\":\"5208\",\"type\":\"VBar\"},{\"attributes\":{\"margin\":[5,5,5,5],\"name\":\"HSpacer07823\",\"sizing_mode\":\"stretch_width\"},\"id\":\"5242\",\"type\":\"Spacer\"},{\"attributes\":{},\"id\":\"5183\",\"type\":\"LinearScale\"},{\"attributes\":{\"below\":[{\"id\":\"5185\"}],\"center\":[{\"id\":\"5187\"},{\"id\":\"5191\"}],\"height\":300,\"left\":[{\"id\":\"5188\"}],\"margin\":[5,5,5,5],\"min_border_bottom\":10,\"min_border_left\":10,\"min_border_right\":10,\"min_border_top\":10,\"renderers\":[{\"id\":\"5211\"}],\"sizing_mode\":\"fixed\",\"title\":{\"id\":\"5177\"},\"toolbar\":{\"id\":\"5198\"},\"width\":800,\"x_range\":{\"id\":\"5173\"},\"x_scale\":{\"id\":\"5181\"},\"y_range\":{\"id\":\"5174\"},\"y_scale\":{\"id\":\"5183\"}},\"id\":\"5176\",\"subtype\":\"Figure\",\"type\":\"Plot\"},{\"attributes\":{\"margin\":[5,5,5,5],\"name\":\"HSpacer07822\",\"sizing_mode\":\"stretch_width\"},\"id\":\"5172\",\"type\":\"Spacer\"},{\"attributes\":{},\"id\":\"5192\",\"type\":\"SaveTool\"},{\"attributes\":{\"format\":\"$ 0,0\"},\"id\":\"4241\",\"type\":\"NumeralTickFormatter\"},{\"attributes\":{},\"id\":\"5219\",\"type\":\"AllLabels\"},{\"attributes\":{},\"id\":\"5193\",\"type\":\"PanTool\"},{\"attributes\":{},\"id\":\"5186\",\"type\":\"CategoricalTicker\"},{\"attributes\":{},\"id\":\"5206\",\"type\":\"Selection\"},{\"attributes\":{},\"id\":\"5181\",\"type\":\"CategoricalScale\"},{\"attributes\":{},\"id\":\"5214\",\"type\":\"CategoricalTickFormatter\"},{\"attributes\":{\"callback\":null,\"renderers\":[{\"id\":\"5211\"}],\"tags\":[\"hv_created\"],\"tooltips\":[[\"title\",\"@{title}\"],[\"salary\",\"@{salary}\"]]},\"id\":\"5175\",\"type\":\"HoverTool\"},{\"attributes\":{\"bottom_units\":\"screen\",\"fill_alpha\":0.5,\"fill_color\":\"lightgrey\",\"left_units\":\"screen\",\"level\":\"overlay\",\"line_alpha\":1.0,\"line_color\":\"black\",\"line_dash\":[4,4],\"line_width\":2,\"right_units\":\"screen\",\"syncable\":false,\"top_units\":\"screen\"},\"id\":\"5197\",\"type\":\"BoxAnnotation\"},{\"attributes\":{\"axis_label\":\"Average Salary\",\"formatter\":{\"id\":\"4241\"},\"major_label_policy\":{\"id\":\"5219\"},\"ticker\":{\"id\":\"5189\"}},\"id\":\"5188\",\"type\":\"LinearAxis\"},{\"attributes\":{},\"id\":\"5194\",\"type\":\"WheelZoomTool\"},{\"attributes\":{},\"id\":\"5232\",\"type\":\"UnionRenderers\"},{\"attributes\":{},\"id\":\"5216\",\"type\":\"AllLabels\"},{\"attributes\":{\"active_multi\":null,\"tools\":[{\"id\":\"5175\"},{\"id\":\"5192\"},{\"id\":\"5193\"},{\"id\":\"5194\"},{\"id\":\"5195\"},{\"id\":\"5196\"}]},\"id\":\"5198\",\"type\":\"Toolbar\"},{\"attributes\":{\"children\":[{\"id\":\"5172\"},{\"id\":\"5176\"},{\"id\":\"5242\"}],\"margin\":[0,0,0,0],\"name\":\"Row07818\",\"tags\":[\"embedded\"]},\"id\":\"5171\",\"type\":\"Row\"},{\"attributes\":{\"axis\":{\"id\":\"5188\"},\"dimension\":1,\"ticker\":{\"id\":\"5189\"}},\"id\":\"5191\",\"type\":\"Grid\"},{\"attributes\":{\"overlay\":{\"id\":\"5197\"}},\"id\":\"5195\",\"type\":\"BoxZoomTool\"},{\"attributes\":{\"data\":{\"salary\":{\"__ndarray__\":\"lQb+5o2250BbnLPE6rLnQFVVVVVhKelArkSLmFmv50A5S8uGxZbsQKVWT0AsjOxAAejIrNy450A=\",\"dtype\":\"float64\",\"order\":\"little\",\"shape\":[7]},\"title\":[\"Assistant Engineer\",\"Engineer\",\"Manager\",\"Senior Engineer\",\"Senior Staff\",\"Staff\",\"Technique Leader\"]},\"selected\":{\"id\":\"5206\"},\"selection_policy\":{\"id\":\"5232\"}},\"id\":\"5205\",\"type\":\"ColumnDataSource\"},{\"attributes\":{\"text\":\"Average Salary by Job Title\",\"text_color\":\"black\",\"text_font_size\":\"12pt\"},\"id\":\"5177\",\"type\":\"Title\"},{\"attributes\":{\"fill_alpha\":{\"value\":0.2},\"fill_color\":{\"value\":\"#30a2da\"},\"line_alpha\":{\"value\":0.2},\"top\":{\"field\":\"salary\"},\"width\":{\"value\":0.8},\"x\":{\"field\":\"title\"}},\"id\":\"5210\",\"type\":\"VBar\"},{\"attributes\":{\"bottom\":{\"value\":0},\"fill_alpha\":{\"value\":1.0},\"fill_color\":{\"value\":\"#30a2da\"},\"hatch_alpha\":{\"value\":1.0},\"hatch_color\":{\"value\":\"black\"},\"hatch_scale\":{\"value\":12.0},\"hatch_weight\":{\"value\":1.0},\"line_alpha\":{\"value\":1.0},\"line_cap\":{\"value\":\"butt\"},\"line_color\":{\"value\":\"black\"},\"line_dash\":{\"value\":[]},\"line_dash_offset\":{\"value\":0},\"line_join\":{\"value\":\"bevel\"},\"line_width\":{\"value\":1},\"top\":{\"field\":\"salary\"},\"width\":{\"value\":0.8},\"x\":{\"field\":\"title\"}},\"id\":\"5213\",\"type\":\"VBar\"}],\"root_ids\":[\"5171\"]},\"title\":\"Bokeh Application\",\"version\":\"2.3.3\"}};\n",
       "    var render_items = [{\"docid\":\"01e25903-5994-4a4d-b8c3-37bd3a3032de\",\"root_ids\":[\"5171\"],\"roots\":{\"5171\":\"83d35a2d-713f-4f90-9c38-e0648f26ad59\"}}];\n",
       "    root.Bokeh.embed.embed_items_notebook(docs_json, render_items);\n",
       "  }\n",
       "  if (root.Bokeh !== undefined && root.Bokeh.Panel !== undefined) {\n",
       "    embed_document(root);\n",
       "  } else {\n",
       "    var attempts = 0;\n",
       "    var timer = setInterval(function(root) {\n",
       "      if (root.Bokeh !== undefined && root.Bokeh.Panel !== undefined) {\n",
       "        clearInterval(timer);\n",
       "        embed_document(root);\n",
       "      } else if (document.readyState == \"complete\") {\n",
       "        attempts++;\n",
       "        if (attempts > 200) {\n",
       "          clearInterval(timer);\n",
       "          console.log(\"Bokeh: ERROR: Unable to run BokehJS code because BokehJS library is missing\");\n",
       "        }\n",
       "      }\n",
       "    }, 25, root)\n",
       "  }\n",
       "})(window);</script>"
      ],
      "text/plain": [
       ":Bars   [title]   (salary)"
      ]
     },
     "execution_count": 76,
     "metadata": {
      "application/vnd.holoviews_exec.v0+json": {
       "id": "5171"
      }
     },
     "output_type": "execute_result"
    }
   ],
   "source": [
    "merge_df1 = pd.merge(employees_df, salaries_df, on=\"emp_no\")\n",
    "merge_df2 = merge_df1.rename(columns={\"emp_title_id\":\"title_id\"})\n",
    "merge_df3 = pd.merge(merge_df2, titles_df, on=\"title_id\")\n",
    "cols = [0,1,2,3,4,5,6]\n",
    "merge_df4 = merge_df3.drop(merge_df3.columns[cols], axis=1)\n",
    "grouped_df = merge_df4.groupby('title').mean()\n",
    "\n",
    "avg_sal_plot = grouped_df.hvplot.bar(width=800, grid=True, title='Average Salary by Job Title', yformatter=formatter2,\n",
    "                                    xlabel = 'Job Title', ylabel = 'Average Salary')\n",
    "avg_sal_plot"
   ]
  },
  {
   "cell_type": "code",
   "execution_count": 97,
   "id": "e971509e",
   "metadata": {},
   "outputs": [],
   "source": [
    "# departments_df = pd.read_csv('Inputs/departments.csv')\n",
    "# dept_df = pd.read_csv('Inputs/dept_emp.csv')\n",
    "# dept_manager_df = pd.read_csv('Inputs/dept_manager.csv')\n",
    "# employees_df = pd.read_csv('Inputs/employees.csv')\n",
    "# salaries_df = pd.read_csv('Inputs/salaries.csv')\n",
    "# titles_df = pd.read_csv('Inputs/titles.csv')"
   ]
  },
  {
   "cell_type": "code",
   "execution_count": 101,
   "id": "64625c77",
   "metadata": {},
   "outputs": [
    {
     "data": {
      "text/html": [
       "<div>\n",
       "<style scoped>\n",
       "    .dataframe tbody tr th:only-of-type {\n",
       "        vertical-align: middle;\n",
       "    }\n",
       "\n",
       "    .dataframe tbody tr th {\n",
       "        vertical-align: top;\n",
       "    }\n",
       "\n",
       "    .dataframe thead th {\n",
       "        text-align: right;\n",
       "    }\n",
       "</style>\n",
       "<table border=\"1\" class=\"dataframe\">\n",
       "  <thead>\n",
       "    <tr style=\"text-align: right;\">\n",
       "      <th></th>\n",
       "      <th>emp_no</th>\n",
       "      <th>emp_title_id</th>\n",
       "      <th>birth_date</th>\n",
       "      <th>first_name</th>\n",
       "      <th>last_name</th>\n",
       "      <th>sex</th>\n",
       "      <th>hire_date</th>\n",
       "    </tr>\n",
       "  </thead>\n",
       "  <tbody>\n",
       "    <tr>\n",
       "      <th>0</th>\n",
       "      <td>473302</td>\n",
       "      <td>s0001</td>\n",
       "      <td>1953-07-25</td>\n",
       "      <td>Hideyuki</td>\n",
       "      <td>Zallocco</td>\n",
       "      <td>M</td>\n",
       "      <td>1990-04-28</td>\n",
       "    </tr>\n",
       "    <tr>\n",
       "      <th>1</th>\n",
       "      <td>475053</td>\n",
       "      <td>e0002</td>\n",
       "      <td>1954-11-18</td>\n",
       "      <td>Byong</td>\n",
       "      <td>Delgrande</td>\n",
       "      <td>F</td>\n",
       "      <td>1991-09-07</td>\n",
       "    </tr>\n",
       "    <tr>\n",
       "      <th>2</th>\n",
       "      <td>57444</td>\n",
       "      <td>e0002</td>\n",
       "      <td>1958-01-30</td>\n",
       "      <td>Berry</td>\n",
       "      <td>Babb</td>\n",
       "      <td>F</td>\n",
       "      <td>1992-03-21</td>\n",
       "    </tr>\n",
       "    <tr>\n",
       "      <th>3</th>\n",
       "      <td>421786</td>\n",
       "      <td>s0001</td>\n",
       "      <td>1957-09-28</td>\n",
       "      <td>Xiong</td>\n",
       "      <td>Verhoeff</td>\n",
       "      <td>M</td>\n",
       "      <td>1987-11-26</td>\n",
       "    </tr>\n",
       "    <tr>\n",
       "      <th>4</th>\n",
       "      <td>282238</td>\n",
       "      <td>e0003</td>\n",
       "      <td>1952-10-28</td>\n",
       "      <td>Abdelkader</td>\n",
       "      <td>Baumann</td>\n",
       "      <td>F</td>\n",
       "      <td>1991-01-18</td>\n",
       "    </tr>\n",
       "  </tbody>\n",
       "</table>\n",
       "</div>"
      ],
      "text/plain": [
       "   emp_no emp_title_id birth_date  first_name  last_name sex  hire_date\n",
       "0  473302        s0001 1953-07-25    Hideyuki   Zallocco   M 1990-04-28\n",
       "1  475053        e0002 1954-11-18       Byong  Delgrande   F 1991-09-07\n",
       "2   57444        e0002 1958-01-30       Berry       Babb   F 1992-03-21\n",
       "3  421786        s0001 1957-09-28       Xiong   Verhoeff   M 1987-11-26\n",
       "4  282238        e0003 1952-10-28  Abdelkader    Baumann   F 1991-01-18"
      ]
     },
     "execution_count": 101,
     "metadata": {},
     "output_type": "execute_result"
    }
   ],
   "source": [
    "# employees_df['birth_date'] = pd.to_datetime(employees_df.birth_date)\n",
    "# employees_df['hire_date'] = pd.to_datetime(employees_df.hire_date)\n",
    "# # employees_df.hire_date.dtype\n",
    "# employees_df.head()"
   ]
  },
  {
   "cell_type": "code",
   "execution_count": 104,
   "id": "28999236",
   "metadata": {},
   "outputs": [],
   "source": [
    "# load df to database\n",
    "# departments_df.to_sql('departments',engine,index=False,if_exists='replace')\n",
    "# dept_df.to_sql('dept_emp',engine,index=False,if_exists='replace')\n",
    "# dept_manager_df.to_sql('dept_manager',engine,index=False,if_exists='replace')\n",
    "# employees_df.to_sql('employees',engine,index=False,if_exists='replace')\n",
    "# salaries_df.to_sql('salaries',engine,index=False,if_exists='replace')\n",
    "# titles_df.to_sql('titles',engine,index=False,if_exists='replace')"
   ]
  },
  {
   "cell_type": "code",
   "execution_count": 110,
   "id": "f3d43b82",
   "metadata": {},
   "outputs": [
    {
     "name": "stdout",
     "output_type": "stream",
     "text": [
      "departments\n",
      "dept_emp\n",
      "dept_manager\n",
      "employees\n",
      "salaries\n",
      "tities\n",
      "dept_emp\n"
     ]
    }
   ],
   "source": [
    "\n",
    "# write python program to connect to postgres and load data to postgre database\n",
    "#\n",
    "# conda install psycopg2 - PostgresSQL database adapter for Python\n",
    "#\n",
    "#\n",
    "#\n",
    "# \n",
    "#\n",
    "\n",
    "import pandas as pd\n",
    "import os\n",
    "import psycopg2\n",
    "from dotenv import load_dotenv\n",
    "from sqlalchemy import create_engine\n",
    "\n",
    "load_dotenv()\n",
    "# Get the postgres connection information from os file.\n",
    "# DB_HOST = os.getenv('DB_HOST')\n",
    "DB_HOST = 'localhost'\n",
    "DB_NAME = os.getenv('DB_NAME')\n",
    "# DB_USER = os.getenv('DB_USER')\n",
    "DB_USER = 'postgres'\n",
    "DB_PASS = os.getenv('DB_PASS')\n",
    "\n",
    "# print(DB_PASS)\n",
    "\n",
    "departments_df = pd.read_csv('Inputs/departments.csv')\n",
    "dept_df = pd.read_csv('Inputs/dept_emp.csv')\n",
    "dept_manager_df = pd.read_csv('Inputs/dept_manager.csv')\n",
    "employees_df = pd.read_csv('Inputs/employees.csv')\n",
    "salaries_df = pd.read_csv('Inputs/salaries.csv')\n",
    "titles_df = pd.read_csv('Inputs/titles.csv')\n",
    "\n",
    "\n",
    "# # sqlachemy\n",
    "\n",
    "engine = create_engine(f'postgresql://{DB_USER}:{DB_PASS}@{DB_HOST}:5432/{DB_NAME}')\n",
    "\n",
    "# # load df to database\n",
    "departments_df.to_sql('departments',engine,index=False,if_exists='append')\n",
    "print('departments')\n",
    "dept_df.to_sql('dept_emp',engine,index=False,if_exists='append')\n",
    "print('dept_emp')\n",
    "dept_manager_df.to_sql('dept_manager',engine,index=False,if_exists='append')\n",
    "print('dept_manager')\n",
    "employees_df.to_sql('employees',engine,index=False,if_exists='append')\n",
    "print('employees')\n",
    "salaries_df.to_sql('salaries',engine,index=False,if_exists='append')\n",
    "print('salaries')\n",
    "titles_df.to_sql('titles',engine,index=False,if_exists='append')\n",
    "print('titles')\n",
    "dept_df.to_sql('dept_emp',engine,index=False,if_exists='append')\n",
    "print('dept_emp')\n",
    "\n",
    "# sql_challenge.py\n",
    "# Displaying sql_challenge.py."
   ]
  },
  {
   "cell_type": "code",
   "execution_count": null,
   "id": "7e81c670",
   "metadata": {},
   "outputs": [],
   "source": []
  }
 ],
 "metadata": {
  "kernelspec": {
   "display_name": "Python [conda env:pyvizenv]",
   "language": "python",
   "name": "conda-env-pyvizenv-py"
  },
  "language_info": {
   "codemirror_mode": {
    "name": "ipython",
    "version": 3
   },
   "file_extension": ".py",
   "mimetype": "text/x-python",
   "name": "python",
   "nbconvert_exporter": "python",
   "pygments_lexer": "ipython3",
   "version": "3.7.11"
  }
 },
 "nbformat": 4,
 "nbformat_minor": 5
}
