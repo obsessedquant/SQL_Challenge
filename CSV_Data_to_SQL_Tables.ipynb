{
 "cells": [
  {
   "cell_type": "markdown",
   "id": "2a2fd497",
   "metadata": {},
   "source": [
    "# Import CSVs to SQL Tables\n",
    "\n",
    "This module is meant to import data from CSV tables into PostgresSQL."
   ]
  },
  {
   "cell_type": "code",
   "execution_count": 1,
   "id": "120e2a65",
   "metadata": {},
   "outputs": [
    {
     "name": "stdout",
     "output_type": "stream",
     "text": [
      "departments\n",
      "dept_emp\n",
      "dept_manager\n",
      "employees\n",
      "salaries\n",
      "titles\n"
     ]
    }
   ],
   "source": [
    "import pandas as pd\n",
    "import os\n",
    "from dotenv import load_dotenv\n",
    "from sqlalchemy import create_engine\n",
    "\n",
    "load_dotenv()\n",
    "DB_HOST = os.getenv('DB_HOST')\n",
    "DB_NAME = os.getenv('DB_NAME')\n",
    "DB_USER = os.getenv('DB_USER')\n",
    "DB_PASS = os.getenv('DB_PASS')\n",
    "\n",
    "engine = create_engine(f'postgresql://{DB_USER}:{DB_PASS}@{DB_HOST}:5432/{DB_NAME}')\n",
    "\n",
    "# Import data from .csv files into pandas dataframes\n",
    "departments_df = pd.read_csv('Inputs/departments.csv')\n",
    "dept_emp_df = pd.read_csv('Inputs/dept_emp.csv')\n",
    "dept_manager_df = pd.read_csv('Inputs/dept_manager.csv')\n",
    "employees_df = pd.read_csv('Inputs/employees.csv')\n",
    "salaries_df = pd.read_csv('Inputs/salaries.csv')\n",
    "titles_df = pd.read_csv('Inputs/titles.csv')\n",
    "\n",
    "# Convert data types for birth_date and hire_date to datetime\n",
    "employees_df['birth_date'] = pd.to_datetime(employees_df.birth_date)\n",
    "employees_df['hire_date'] = pd.to_datetime(employees_df.hire_date)\n",
    "\n",
    "# Load dataframes to database in PostgresSQL (append method)\n",
    "departments_df.to_sql('departments',engine,index=False,if_exists='append')\n",
    "print('departments')\n",
    "dept_emp_df.to_sql('dept_emp',engine,index=False,if_exists='append')\n",
    "print('dept_emp')\n",
    "dept_manager_df.to_sql('dept_manager',engine,index=False,if_exists='append')\n",
    "print('dept_manager')\n",
    "employees_df.to_sql('employees',engine,index=False,if_exists='append')\n",
    "print('employees')\n",
    "salaries_df.to_sql('salaries',engine,index=False,if_exists='append')\n",
    "print('salaries')\n",
    "titles_df.to_sql('titles',engine,index=False,if_exists='append')\n",
    "print('titles')"
   ]
  }
 ],
 "metadata": {
  "kernelspec": {
   "display_name": "Python [conda env:pyvizenv]",
   "language": "python",
   "name": "conda-env-pyvizenv-py"
  },
  "language_info": {
   "codemirror_mode": {
    "name": "ipython",
    "version": 3
   },
   "file_extension": ".py",
   "mimetype": "text/x-python",
   "name": "python",
   "nbconvert_exporter": "python",
   "pygments_lexer": "ipython3",
   "version": "3.7.11"
  }
 },
 "nbformat": 4,
 "nbformat_minor": 5
}
